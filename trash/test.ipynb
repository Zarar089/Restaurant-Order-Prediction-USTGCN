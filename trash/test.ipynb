{
 "cells": [
  {
   "cell_type": "code",
   "execution_count": 3,
   "metadata": {},
   "outputs": [
    {
     "name": "stdout",
     "output_type": "stream",
     "text": [
      "tensor([[-2.3372e-09,  4.5738e-41, -2.3372e-09],\n",
      "        [ 4.5738e-41,  1.1182e+17, -4.1269e-37],\n",
      "        [ 4.8131e+31,  4.5737e-41,  5.5616e+31],\n",
      "        [ 4.5737e-41, -5.9858e+35,  8.4681e+37],\n",
      "        [ 4.8036e+31,  4.5737e-41,  1.2086e+32],\n",
      "        [ 4.5737e-41, -3.1445e+15,  5.7711e-26]], device='cuda:0',\n",
      "       grad_fn=<ToCopyBackward0>)\n"
     ]
    }
   ],
   "source": [
    "import torch\n",
    "test = torch.nn.Parameter(torch.Tensor(2*3, 3)).to('cuda')\n",
    "\n",
    "print(test)"
   ]
  }
 ],
 "metadata": {
  "kernelspec": {
   "display_name": "ustgcn",
   "language": "python",
   "name": "python3"
  },
  "language_info": {
   "codemirror_mode": {
    "name": "ipython",
    "version": 3
   },
   "file_extension": ".py",
   "mimetype": "text/x-python",
   "name": "python",
   "nbconvert_exporter": "python",
   "pygments_lexer": "ipython3",
   "version": "3.10.9"
  },
  "orig_nbformat": 4,
  "vscode": {
   "interpreter": {
    "hash": "c7efbd60344adf9c62510e4f79b7dfefe221ea6c6a297ab638b2fc3fea13232b"
   }
  }
 },
 "nbformat": 4,
 "nbformat_minor": 2
}
