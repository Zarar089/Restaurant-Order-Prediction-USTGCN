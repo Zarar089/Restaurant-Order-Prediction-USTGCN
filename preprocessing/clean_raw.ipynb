{
 "cells": [
  {
   "cell_type": "markdown",
   "metadata": {},
   "source": [
    "### Import necessary libraries"
   ]
  },
  {
   "cell_type": "code",
   "execution_count": 1,
   "metadata": {},
   "outputs": [],
   "source": [
    "import pickle\n",
    "import numpy as np\n",
    "import pandas as pd"
   ]
  },
  {
   "cell_type": "markdown",
   "metadata": {},
   "source": [
    "### Load data of **Pizza Next Door**:"
   ]
  },
  {
   "cell_type": "code",
   "execution_count": 2,
   "metadata": {},
   "outputs": [
    {
     "name": "stdout",
     "output_type": "stream",
     "text": [
      "<class 'pandas.core.frame.DataFrame'>\n",
      "RangeIndex: 3581 entries, 0 to 3580\n",
      "Data columns (total 5 columns):\n",
      " #   Column         Non-Null Count  Dtype \n",
      "---  ------         --------------  ----- \n",
      " 0   orderDate      3581 non-null   object\n",
      " 1   categoryTitle  3581 non-null   object\n",
      " 2   dishTitle      3581 non-null   object\n",
      " 3   orderQuantity  3581 non-null   int64 \n",
      " 4   orderPrice     3581 non-null   int64 \n",
      "dtypes: int64(2), object(3)\n",
      "memory usage: 140.0+ KB\n",
      "None\n"
     ]
    },
    {
     "data": {
      "text/html": [
       "<div>\n",
       "<style scoped>\n",
       "    .dataframe tbody tr th:only-of-type {\n",
       "        vertical-align: middle;\n",
       "    }\n",
       "\n",
       "    .dataframe tbody tr th {\n",
       "        vertical-align: top;\n",
       "    }\n",
       "\n",
       "    .dataframe thead th {\n",
       "        text-align: right;\n",
       "    }\n",
       "</style>\n",
       "<table border=\"1\" class=\"dataframe\">\n",
       "  <thead>\n",
       "    <tr style=\"text-align: right;\">\n",
       "      <th></th>\n",
       "      <th>orderDate</th>\n",
       "      <th>categoryTitle</th>\n",
       "      <th>dishTitle</th>\n",
       "      <th>orderQuantity</th>\n",
       "      <th>orderPrice</th>\n",
       "    </tr>\n",
       "  </thead>\n",
       "  <tbody>\n",
       "    <tr>\n",
       "      <th>0</th>\n",
       "      <td>2021-08-07</td>\n",
       "      <td>Salad</td>\n",
       "      <td>Garlic Mushroom with Chicken</td>\n",
       "      <td>2</td>\n",
       "      <td>520</td>\n",
       "    </tr>\n",
       "    <tr>\n",
       "      <th>1</th>\n",
       "      <td>2021-08-07</td>\n",
       "      <td>Thin-Crust Pizza</td>\n",
       "      <td>Prawn-Lime Pizza</td>\n",
       "      <td>1</td>\n",
       "      <td>1050</td>\n",
       "    </tr>\n",
       "    <tr>\n",
       "      <th>2</th>\n",
       "      <td>2021-08-07</td>\n",
       "      <td>Sandwich</td>\n",
       "      <td>Smoked Chicken Sandwich</td>\n",
       "      <td>1</td>\n",
       "      <td>160</td>\n",
       "    </tr>\n",
       "    <tr>\n",
       "      <th>3</th>\n",
       "      <td>2021-08-07</td>\n",
       "      <td>Sandwich</td>\n",
       "      <td>Club Sandwich</td>\n",
       "      <td>1</td>\n",
       "      <td>260</td>\n",
       "    </tr>\n",
       "    <tr>\n",
       "      <th>4</th>\n",
       "      <td>2021-08-07</td>\n",
       "      <td>Starter</td>\n",
       "      <td>Chicken Cheese Balls</td>\n",
       "      <td>3</td>\n",
       "      <td>360</td>\n",
       "    </tr>\n",
       "  </tbody>\n",
       "</table>\n",
       "</div>"
      ],
      "text/plain": [
       "    orderDate     categoryTitle                     dishTitle  orderQuantity  \\\n",
       "0  2021-08-07             Salad  Garlic Mushroom with Chicken              2   \n",
       "1  2021-08-07  Thin-Crust Pizza              Prawn-Lime Pizza              1   \n",
       "2  2021-08-07          Sandwich       Smoked Chicken Sandwich              1   \n",
       "3  2021-08-07          Sandwich                 Club Sandwich              1   \n",
       "4  2021-08-07           Starter          Chicken Cheese Balls              3   \n",
       "\n",
       "   orderPrice  \n",
       "0         520  \n",
       "1        1050  \n",
       "2         160  \n",
       "3         260  \n",
       "4         360  "
      ]
     },
     "execution_count": 2,
     "metadata": {},
     "output_type": "execute_result"
    }
   ],
   "source": [
    "data = pd.read_csv('../data/raw/pizzanextdoor.csv')\n",
    "print(data.info())\n",
    "data.head()"
   ]
  },
  {
   "cell_type": "markdown",
   "metadata": {},
   "source": [
    "### Remove unnecessary columns\n",
    "1. **categoryTitle** - Does not need to be included in the analysis\n",
    "2. **orderPrice** - Does not need in this analysis"
   ]
  },
  {
   "cell_type": "code",
   "execution_count": 3,
   "metadata": {},
   "outputs": [
    {
     "data": {
      "text/html": [
       "<div>\n",
       "<style scoped>\n",
       "    .dataframe tbody tr th:only-of-type {\n",
       "        vertical-align: middle;\n",
       "    }\n",
       "\n",
       "    .dataframe tbody tr th {\n",
       "        vertical-align: top;\n",
       "    }\n",
       "\n",
       "    .dataframe thead th {\n",
       "        text-align: right;\n",
       "    }\n",
       "</style>\n",
       "<table border=\"1\" class=\"dataframe\">\n",
       "  <thead>\n",
       "    <tr style=\"text-align: right;\">\n",
       "      <th></th>\n",
       "      <th>orderDate</th>\n",
       "      <th>dishTitle</th>\n",
       "      <th>orderQuantity</th>\n",
       "    </tr>\n",
       "  </thead>\n",
       "  <tbody>\n",
       "    <tr>\n",
       "      <th>0</th>\n",
       "      <td>2021-08-07</td>\n",
       "      <td>Garlic Mushroom with Chicken</td>\n",
       "      <td>2</td>\n",
       "    </tr>\n",
       "    <tr>\n",
       "      <th>1</th>\n",
       "      <td>2021-08-07</td>\n",
       "      <td>Prawn-Lime Pizza</td>\n",
       "      <td>1</td>\n",
       "    </tr>\n",
       "    <tr>\n",
       "      <th>2</th>\n",
       "      <td>2021-08-07</td>\n",
       "      <td>Smoked Chicken Sandwich</td>\n",
       "      <td>1</td>\n",
       "    </tr>\n",
       "    <tr>\n",
       "      <th>3</th>\n",
       "      <td>2021-08-07</td>\n",
       "      <td>Club Sandwich</td>\n",
       "      <td>1</td>\n",
       "    </tr>\n",
       "    <tr>\n",
       "      <th>4</th>\n",
       "      <td>2021-08-07</td>\n",
       "      <td>Chicken Cheese Balls</td>\n",
       "      <td>3</td>\n",
       "    </tr>\n",
       "  </tbody>\n",
       "</table>\n",
       "</div>"
      ],
      "text/plain": [
       "    orderDate                     dishTitle  orderQuantity\n",
       "0  2021-08-07  Garlic Mushroom with Chicken              2\n",
       "1  2021-08-07              Prawn-Lime Pizza              1\n",
       "2  2021-08-07       Smoked Chicken Sandwich              1\n",
       "3  2021-08-07                 Club Sandwich              1\n",
       "4  2021-08-07          Chicken Cheese Balls              3"
      ]
     },
     "execution_count": 3,
     "metadata": {},
     "output_type": "execute_result"
    }
   ],
   "source": [
    "data.drop(['categoryTitle', 'orderPrice'], axis=1, inplace=True)\n",
    "data.head()"
   ]
  },
  {
   "cell_type": "markdown",
   "metadata": {},
   "source": [
    "### Get the unique Dish Titles:"
   ]
  },
  {
   "cell_type": "code",
   "execution_count": 4,
   "metadata": {},
   "outputs": [
    {
     "name": "stdout",
     "output_type": "stream",
     "text": [
      "['Garlic Mushroom with Chicken' 'Prawn-Lime Pizza'\n",
      " 'Smoked Chicken Sandwich' 'Club Sandwich' 'Chicken Cheese Balls'\n",
      " 'Classic Margherita Pizza' 'Cheese Balls' 'French Fries' 'Buffalo Wings'\n",
      " 'BBQ Chicken  Pizza' 'Teriyaki Chicken Wings' 'Coke Can' 'Fish & Chips'\n",
      " 'Pizza Seafood Marinara' 'Water 500ml' \"Vegetarian's Delight\"\n",
      " 'Naga Beef Pizza' 'Beef Pepperoni Pizza' 'Corn & Cheese Pizza'\n",
      " 'Pizza Fun-Guy (Funghi)' 'Sprite Can' 'Tandoori Chicken Pizza'\n",
      " 'Seafood Marinara' 'Prawn On Toast' 'Chicken Supreme Pizza'\n",
      " 'Potato Wedges' 'Four Seasons Pizza' 'BBQ Chicken Burger'\n",
      " 'Peri Peri Beef Burger' 'Fried Calamari' 'Teriyaki Chicken'\n",
      " 'Classic Chicken Burger' 'Classic Beef Burger' 'Cheesy Sausage Pizza'\n",
      " 'Naga Wings' 'Coke' 'Fanta Can' 'Hawaiian BBQ Chicken Pizza' 'Sprite'\n",
      " 'Espresso' 'Cappuccino' 'Mongolian Beef' 'Moroccan Chicken' 'Fanta'\n",
      " 'Americano' 'Spaghetti Bolognese' 'Flavored Latte'\n",
      " 'Blueberry Cheese Cake' 'T-Bone (330-350 gms)' 'Caffe Mocha' 'Latte'\n",
      " 'Red Velvet Pastry' 'Chicken Cashew Nut Salad' 'Chicken Butterfly'\n",
      " 'Cream of Mushroom' 'Oreo Vanilla Shake' 'Sirloin (330 - 350 gms)'\n",
      " 'Blueberry Cheesecake Shake' 'Sauteed Garlic Mushroom' 'Chocolate Mousse'\n",
      " 'Fettuccine Baked Pasta' 'Oreo Cheese Cake' 'Strawberry Shake'\n",
      " 'Macchiato' 'Round Beef (200 - 220 gms)' 'Mixed Platter' 'Seafood Clear'\n",
      " 'Green Tea & Mint' 'Apple Soda' 'Penne Alfredo' 'Lime Soda' 'Doppio'\n",
      " 'Chicken Caesar Salad' 'Cookie' 'Brownie with Ice Cream' 'Croissant'\n",
      " 'Croissant Sandwich' 'Earl Grey' 'Hot & Sour' 'Classic English Breakfast'\n",
      " 'Rice with Chicken Satay' 'Rice with Chicken Sausage'\n",
      " 'Rice with Prawn Tempura' 'Spicy Rice with Chicken Satay'\n",
      " 'Fettuccine Creme Lime-e' 'Spicy Rice with Prawn Tempura'\n",
      " 'Water 500ml ...' 'Spaghetti Aglio e Olio' 'Zero Coke Can'\n",
      " 'Full English Breakfast' 'Light English Breakfast' 'Thai Soup'\n",
      " 'Continental Light Breakfast' 'Hawaiian Chicken Burger'\n",
      " 'Spicy Rice with Chicken Sausage']\n"
     ]
    }
   ],
   "source": [
    "print(data['dishTitle'].unique())"
   ]
  },
  {
   "cell_type": "markdown",
   "metadata": {},
   "source": [
    "### Sort the Dish Titles in alphabetical order"
   ]
  },
  {
   "cell_type": "code",
   "execution_count": 5,
   "metadata": {},
   "outputs": [
    {
     "name": "stdout",
     "output_type": "stream",
     "text": [
      "['Americano' 'Apple Soda' 'BBQ Chicken  Pizza' 'BBQ Chicken Burger'\n",
      " 'Beef Pepperoni Pizza' 'Blueberry Cheese Cake'\n",
      " 'Blueberry Cheesecake Shake' 'Brownie with Ice Cream' 'Buffalo Wings'\n",
      " 'Caffe Mocha' 'Cappuccino' 'Cheese Balls' 'Cheesy Sausage Pizza'\n",
      " 'Chicken Butterfly' 'Chicken Caesar Salad' 'Chicken Cashew Nut Salad'\n",
      " 'Chicken Cheese Balls' 'Chicken Supreme Pizza' 'Chocolate Mousse'\n",
      " 'Classic Beef Burger' 'Classic Chicken Burger'\n",
      " 'Classic English Breakfast' 'Classic Margherita Pizza' 'Club Sandwich'\n",
      " 'Coke' 'Coke Can' 'Continental Light Breakfast' 'Cookie'\n",
      " 'Corn & Cheese Pizza' 'Cream of Mushroom' 'Croissant'\n",
      " 'Croissant Sandwich' 'Doppio' 'Earl Grey' 'Espresso' 'Fanta' 'Fanta Can'\n",
      " 'Fettuccine Baked Pasta' 'Fettuccine Creme Lime-e' 'Fish & Chips'\n",
      " 'Flavored Latte' 'Four Seasons Pizza' 'French Fries' 'Fried Calamari'\n",
      " 'Full English Breakfast' 'Garlic Mushroom with Chicken'\n",
      " 'Green Tea & Mint' 'Hawaiian BBQ Chicken Pizza' 'Hawaiian Chicken Burger'\n",
      " 'Hot & Sour' 'Latte' 'Light English Breakfast' 'Lime Soda' 'Macchiato'\n",
      " 'Mixed Platter' 'Mongolian Beef' 'Moroccan Chicken' 'Naga Beef Pizza'\n",
      " 'Naga Wings' 'Oreo Cheese Cake' 'Oreo Vanilla Shake' 'Penne Alfredo'\n",
      " 'Peri Peri Beef Burger' 'Pizza Fun-Guy (Funghi)' 'Pizza Seafood Marinara'\n",
      " 'Potato Wedges' 'Prawn On Toast' 'Prawn-Lime Pizza' 'Red Velvet Pastry'\n",
      " 'Rice with Chicken Satay' 'Rice with Chicken Sausage'\n",
      " 'Rice with Prawn Tempura' 'Round Beef (200 - 220 gms)'\n",
      " 'Sauteed Garlic Mushroom' 'Seafood Clear' 'Seafood Marinara'\n",
      " 'Sirloin (330 - 350 gms)' 'Smoked Chicken Sandwich'\n",
      " 'Spaghetti Aglio e Olio' 'Spaghetti Bolognese'\n",
      " 'Spicy Rice with Chicken Satay' 'Spicy Rice with Chicken Sausage'\n",
      " 'Spicy Rice with Prawn Tempura' 'Sprite' 'Sprite Can' 'Strawberry Shake'\n",
      " 'T-Bone (330-350 gms)' 'Tandoori Chicken Pizza' 'Teriyaki Chicken'\n",
      " 'Teriyaki Chicken Wings' 'Thai Soup' \"Vegetarian's Delight\" 'Water 500ml'\n",
      " 'Water 500ml ...' 'Zero Coke Can']\n",
      "Total number of dishes: 95\n"
     ]
    }
   ],
   "source": [
    "dish_titles = data['dishTitle'].unique()\n",
    "dish_titles.sort()\n",
    "print(dish_titles)\n",
    "print(\"Total number of dishes: {}\".format(len(dish_titles)))"
   ]
  },
  {
   "cell_type": "markdown",
   "metadata": {},
   "source": [
    "### Assign a unique number to each Dish Title and create a dictionary for it (for future use)"
   ]
  },
  {
   "cell_type": "code",
   "execution_count": 6,
   "metadata": {},
   "outputs": [],
   "source": [
    "dish_dict = {}\n",
    "for i, dish in enumerate(dish_titles):\n",
    "    dish_dict[dish] = i\n",
    "\n",
    "with open('../data/processed/dish_dict.pkl', 'wb') as f:\n",
    "    pickle.dump(dish_dict, f)"
   ]
  },
  {
   "cell_type": "markdown",
   "metadata": {},
   "source": [
    "### Load saved dictionary and print it"
   ]
  },
  {
   "cell_type": "code",
   "execution_count": 7,
   "metadata": {},
   "outputs": [
    {
     "name": "stdout",
     "output_type": "stream",
     "text": [
      "{'Americano': 0, 'Apple Soda': 1, 'BBQ Chicken  Pizza': 2, 'BBQ Chicken Burger': 3, 'Beef Pepperoni Pizza': 4, 'Blueberry Cheese Cake': 5, 'Blueberry Cheesecake Shake': 6, 'Brownie with Ice Cream': 7, 'Buffalo Wings': 8, 'Caffe Mocha': 9, 'Cappuccino': 10, 'Cheese Balls': 11, 'Cheesy Sausage Pizza': 12, 'Chicken Butterfly': 13, 'Chicken Caesar Salad': 14, 'Chicken Cashew Nut Salad': 15, 'Chicken Cheese Balls': 16, 'Chicken Supreme Pizza': 17, 'Chocolate Mousse': 18, 'Classic Beef Burger': 19, 'Classic Chicken Burger': 20, 'Classic English Breakfast': 21, 'Classic Margherita Pizza': 22, 'Club Sandwich': 23, 'Coke': 24, 'Coke Can': 25, 'Continental Light Breakfast': 26, 'Cookie': 27, 'Corn & Cheese Pizza': 28, 'Cream of Mushroom': 29, 'Croissant': 30, 'Croissant Sandwich': 31, 'Doppio': 32, 'Earl Grey': 33, 'Espresso': 34, 'Fanta': 35, 'Fanta Can': 36, 'Fettuccine Baked Pasta': 37, 'Fettuccine Creme Lime-e': 38, 'Fish & Chips': 39, 'Flavored Latte': 40, 'Four Seasons Pizza': 41, 'French Fries': 42, 'Fried Calamari': 43, 'Full English Breakfast': 44, 'Garlic Mushroom with Chicken': 45, 'Green Tea & Mint': 46, 'Hawaiian BBQ Chicken Pizza': 47, 'Hawaiian Chicken Burger': 48, 'Hot & Sour': 49, 'Latte': 50, 'Light English Breakfast': 51, 'Lime Soda': 52, 'Macchiato': 53, 'Mixed Platter': 54, 'Mongolian Beef': 55, 'Moroccan Chicken': 56, 'Naga Beef Pizza': 57, 'Naga Wings': 58, 'Oreo Cheese Cake': 59, 'Oreo Vanilla Shake': 60, 'Penne Alfredo': 61, 'Peri Peri Beef Burger': 62, 'Pizza Fun-Guy (Funghi)': 63, 'Pizza Seafood Marinara': 64, 'Potato Wedges': 65, 'Prawn On Toast': 66, 'Prawn-Lime Pizza': 67, 'Red Velvet Pastry': 68, 'Rice with Chicken Satay': 69, 'Rice with Chicken Sausage': 70, 'Rice with Prawn Tempura': 71, 'Round Beef (200 - 220 gms)': 72, 'Sauteed Garlic Mushroom': 73, 'Seafood Clear': 74, 'Seafood Marinara': 75, 'Sirloin (330 - 350 gms)': 76, 'Smoked Chicken Sandwich': 77, 'Spaghetti Aglio e Olio': 78, 'Spaghetti Bolognese': 79, 'Spicy Rice with Chicken Satay': 80, 'Spicy Rice with Chicken Sausage': 81, 'Spicy Rice with Prawn Tempura': 82, 'Sprite': 83, 'Sprite Can': 84, 'Strawberry Shake': 85, 'T-Bone (330-350 gms)': 86, 'Tandoori Chicken Pizza': 87, 'Teriyaki Chicken': 88, 'Teriyaki Chicken Wings': 89, 'Thai Soup': 90, \"Vegetarian's Delight\": 91, 'Water 500ml': 92, 'Water 500ml ...': 93, 'Zero Coke Can': 94}\n"
     ]
    }
   ],
   "source": [
    "dish_dict = pickle.load(open('../data/processed/dish_dict.pkl', 'rb'))\n",
    "print(dish_dict)"
   ]
  },
  {
   "cell_type": "markdown",
   "metadata": {},
   "source": [
    "### Replace the Dish Titles with their corresponding numbers"
   ]
  },
  {
   "cell_type": "code",
   "execution_count": 8,
   "metadata": {},
   "outputs": [
    {
     "data": {
      "text/html": [
       "<div>\n",
       "<style scoped>\n",
       "    .dataframe tbody tr th:only-of-type {\n",
       "        vertical-align: middle;\n",
       "    }\n",
       "\n",
       "    .dataframe tbody tr th {\n",
       "        vertical-align: top;\n",
       "    }\n",
       "\n",
       "    .dataframe thead th {\n",
       "        text-align: right;\n",
       "    }\n",
       "</style>\n",
       "<table border=\"1\" class=\"dataframe\">\n",
       "  <thead>\n",
       "    <tr style=\"text-align: right;\">\n",
       "      <th></th>\n",
       "      <th>orderDate</th>\n",
       "      <th>dishTitle</th>\n",
       "      <th>orderQuantity</th>\n",
       "    </tr>\n",
       "  </thead>\n",
       "  <tbody>\n",
       "    <tr>\n",
       "      <th>0</th>\n",
       "      <td>2021-08-07</td>\n",
       "      <td>45</td>\n",
       "      <td>2</td>\n",
       "    </tr>\n",
       "    <tr>\n",
       "      <th>1</th>\n",
       "      <td>2021-08-07</td>\n",
       "      <td>67</td>\n",
       "      <td>1</td>\n",
       "    </tr>\n",
       "    <tr>\n",
       "      <th>2</th>\n",
       "      <td>2021-08-07</td>\n",
       "      <td>77</td>\n",
       "      <td>1</td>\n",
       "    </tr>\n",
       "    <tr>\n",
       "      <th>3</th>\n",
       "      <td>2021-08-07</td>\n",
       "      <td>23</td>\n",
       "      <td>1</td>\n",
       "    </tr>\n",
       "    <tr>\n",
       "      <th>4</th>\n",
       "      <td>2021-08-07</td>\n",
       "      <td>16</td>\n",
       "      <td>3</td>\n",
       "    </tr>\n",
       "  </tbody>\n",
       "</table>\n",
       "</div>"
      ],
      "text/plain": [
       "    orderDate  dishTitle  orderQuantity\n",
       "0  2021-08-07         45              2\n",
       "1  2021-08-07         67              1\n",
       "2  2021-08-07         77              1\n",
       "3  2021-08-07         23              1\n",
       "4  2021-08-07         16              3"
      ]
     },
     "execution_count": 8,
     "metadata": {},
     "output_type": "execute_result"
    }
   ],
   "source": [
    "data['dishTitle'] = data['dishTitle'].map(dish_dict)\n",
    "\n",
    "data.head()"
   ]
  },
  {
   "cell_type": "markdown",
   "metadata": {},
   "source": [
    "#### Get unique order dates"
   ]
  },
  {
   "cell_type": "code",
   "execution_count": 9,
   "metadata": {},
   "outputs": [
    {
     "name": "stdout",
     "output_type": "stream",
     "text": [
      "['2021-08-07' '2021-08-08' '2021-08-09' '2021-08-10' '2021-08-11'\n",
      " '2021-08-12' '2021-08-13' '2021-08-14' '2021-08-15' '2021-08-16'\n",
      " '2021-08-17' '2021-08-18' '2021-08-19' '2021-08-20' '2021-08-21'\n",
      " '2021-08-22' '2021-08-23' '2021-08-24' '2021-08-25' '2021-08-26'\n",
      " '2021-08-27' '2021-08-28' '2021-08-29' '2021-08-30' '2021-08-31'\n",
      " '2021-09-01' '2021-09-02' '2021-09-03' '2021-09-04' '2021-09-05'\n",
      " '2021-09-06' '2021-09-07' '2021-09-08' '2021-09-09' '2021-09-10'\n",
      " '2021-09-11' '2021-09-12' '2021-09-13' '2021-09-14' '2021-09-15'\n",
      " '2021-09-16' '2021-09-17' '2021-09-18' '2021-09-19' '2021-09-20'\n",
      " '2021-09-21' '2021-09-22' '2021-09-23' '2021-09-24' '2021-09-25'\n",
      " '2021-09-26' '2021-09-27' '2021-09-28' '2021-09-29' '2021-09-30'\n",
      " '2021-10-01' '2021-10-02' '2021-10-03' '2021-10-04' '2021-10-05'\n",
      " '2021-10-06' '2021-10-07' '2021-10-08' '2021-10-09' '2021-10-10'\n",
      " '2021-10-11' '2021-10-12' '2021-10-13' '2021-10-14' '2021-10-15'\n",
      " '2021-10-16' '2021-10-17' '2021-10-18' '2021-10-19' '2021-10-20'\n",
      " '2021-10-21' '2021-10-22' '2021-10-23' '2021-10-24' '2021-10-25'\n",
      " '2021-10-26' '2021-10-27' '2021-10-28' '2021-10-29' '2021-10-30'\n",
      " '2021-10-31' '2021-11-01' '2021-11-02' '2021-11-03' '2021-11-04'\n",
      " '2021-11-05' '2021-11-06' '2021-11-07' '2021-11-08' '2021-11-09'\n",
      " '2021-11-10' '2021-11-11' '2021-11-12' '2021-11-13' '2021-11-14'\n",
      " '2021-11-15' '2021-11-16' '2021-11-17' '2021-11-18' '2021-11-19'\n",
      " '2021-11-20' '2021-11-21' '2021-11-22' '2021-11-23' '2021-11-24'\n",
      " '2021-11-25' '2021-11-26' '2021-11-27' '2021-11-28' '2021-11-29'\n",
      " '2021-11-30' '2021-12-01' '2021-12-02' '2021-12-03' '2021-12-04'\n",
      " '2021-12-05' '2021-12-06' '2021-12-07' '2021-12-08' '2021-12-09'\n",
      " '2021-12-10']\n",
      "{'2021-08-07': 0, '2021-08-08': 1, '2021-08-09': 2, '2021-08-10': 3, '2021-08-11': 4, '2021-08-12': 5, '2021-08-13': 6, '2021-08-14': 7, '2021-08-15': 8, '2021-08-16': 9, '2021-08-17': 10, '2021-08-18': 11, '2021-08-19': 12, '2021-08-20': 13, '2021-08-21': 14, '2021-08-22': 15, '2021-08-23': 16, '2021-08-24': 17, '2021-08-25': 18, '2021-08-26': 19, '2021-08-27': 20, '2021-08-28': 21, '2021-08-29': 22, '2021-08-30': 23, '2021-08-31': 24, '2021-09-01': 25, '2021-09-02': 26, '2021-09-03': 27, '2021-09-04': 28, '2021-09-05': 29, '2021-09-06': 30, '2021-09-07': 31, '2021-09-08': 32, '2021-09-09': 33, '2021-09-10': 34, '2021-09-11': 35, '2021-09-12': 36, '2021-09-13': 37, '2021-09-14': 38, '2021-09-15': 39, '2021-09-16': 40, '2021-09-17': 41, '2021-09-18': 42, '2021-09-19': 43, '2021-09-20': 44, '2021-09-21': 45, '2021-09-22': 46, '2021-09-23': 47, '2021-09-24': 48, '2021-09-25': 49, '2021-09-26': 50, '2021-09-27': 51, '2021-09-28': 52, '2021-09-29': 53, '2021-09-30': 54, '2021-10-01': 55, '2021-10-02': 56, '2021-10-03': 57, '2021-10-04': 58, '2021-10-05': 59, '2021-10-06': 60, '2021-10-07': 61, '2021-10-08': 62, '2021-10-09': 63, '2021-10-10': 64, '2021-10-11': 65, '2021-10-12': 66, '2021-10-13': 67, '2021-10-14': 68, '2021-10-15': 69, '2021-10-16': 70, '2021-10-17': 71, '2021-10-18': 72, '2021-10-19': 73, '2021-10-20': 74, '2021-10-21': 75, '2021-10-22': 76, '2021-10-23': 77, '2021-10-24': 78, '2021-10-25': 79, '2021-10-26': 80, '2021-10-27': 81, '2021-10-28': 82, '2021-10-29': 83, '2021-10-30': 84, '2021-10-31': 85, '2021-11-01': 86, '2021-11-02': 87, '2021-11-03': 88, '2021-11-04': 89, '2021-11-05': 90, '2021-11-06': 91, '2021-11-07': 92, '2021-11-08': 93, '2021-11-09': 94, '2021-11-10': 95, '2021-11-11': 96, '2021-11-12': 97, '2021-11-13': 98, '2021-11-14': 99, '2021-11-15': 100, '2021-11-16': 101, '2021-11-17': 102, '2021-11-18': 103, '2021-11-19': 104, '2021-11-20': 105, '2021-11-21': 106, '2021-11-22': 107, '2021-11-23': 108, '2021-11-24': 109, '2021-11-25': 110, '2021-11-26': 111, '2021-11-27': 112, '2021-11-28': 113, '2021-11-29': 114, '2021-11-30': 115, '2021-12-01': 116, '2021-12-02': 117, '2021-12-03': 118, '2021-12-04': 119, '2021-12-05': 120, '2021-12-06': 121, '2021-12-07': 122, '2021-12-08': 123, '2021-12-09': 124, '2021-12-10': 125}\n"
     ]
    }
   ],
   "source": [
    "# unique order dates\n",
    "unique_dates = data['orderDate'].unique()\n",
    "unique_dates.sort()\n",
    "print(unique_dates)\n",
    "\n",
    "# save unique dates dict for later use\n",
    "date_dict = {}\n",
    "for i, date in enumerate(unique_dates):\n",
    "    date_dict[date] = i\n",
    "\n",
    "with open('../data/processed/date_dict.pkl', 'wb') as f:\n",
    "    pickle.dump(date_dict, f)\n",
    "\n",
    "# load date dict\n",
    "date_dict = pickle.load(open('../data/processed/date_dict.pkl', 'rb'))\n",
    "print(date_dict)\n",
    "    "
   ]
  },
  {
   "cell_type": "markdown",
   "metadata": {},
   "source": [
    "#### Make a unique number of dates times unique number of dishes matrix"
   ]
  },
  {
   "cell_type": "code",
   "execution_count": 10,
   "metadata": {
    "tags": []
   },
   "outputs": [
    {
     "name": "stdout",
     "output_type": "stream",
     "text": [
      "(126, 95)\n"
     ]
    }
   ],
   "source": [
    "# make order matrix of shape (num_unique_dates, num_unique_dishes)\n",
    "# each entry is the number of orders for that dish on that date \n",
    "# (0 if no orders oherwise add order quantity from the orderQuantity column)\n",
    "order_matrix = np.zeros((len(unique_dates), len(dish_titles)))\n",
    "print(order_matrix.shape)\n",
    "\n",
    "for i, date in enumerate(unique_dates):\n",
    "    for dish in data[data['orderDate'] == date]['dishTitle']:\n",
    "        order_matrix[i, dish] += data[(data['orderDate'] == date) & (data['dishTitle'] == dish)]['orderQuantity'].values[0]\n",
    "\n",
    "\n",
    "# save order matrix in a csv file\n",
    "np.savetxt('../data/processed/order_matrix.csv', order_matrix, delimiter=',')"
   ]
  },
  {
   "cell_type": "markdown",
   "metadata": {},
   "source": [
    "#### Load food Adjacency Matrix from \"Food Adj.csv\" file"
   ]
  },
  {
   "cell_type": "code",
   "execution_count": 11,
   "metadata": {
    "tags": []
   },
   "outputs": [
    {
     "name": "stdout",
     "output_type": "stream",
     "text": [
      "(95, 95)\n"
     ]
    }
   ],
   "source": [
    "# Load food Adjacency Matrix from \"Food Adj.csv\" file\n",
    "food_adj = np.loadtxt('../data/processed/Food Adj.csv', delimiter=',')\n",
    "print(food_adj.shape)\n",
    "\n",
    "# save food adjacency matrix in a csv file with \n",
    "np.savetxt('../data/processed/food_adj.csv', food_adj, delimiter=',')"
   ]
  }
 ],
 "metadata": {
  "kernelspec": {
   "display_name": "ustgcn",
   "language": "python",
   "name": "python3"
  },
  "language_info": {
   "codemirror_mode": {
    "name": "ipython",
    "version": 3
   },
   "file_extension": ".py",
   "mimetype": "text/x-python",
   "name": "python",
   "nbconvert_exporter": "python",
   "pygments_lexer": "ipython3",
   "version": "3.10.9 | packaged by conda-forge | (main, Feb  2 2023, 20:20:04) [GCC 11.3.0]"
  },
  "vscode": {
   "interpreter": {
    "hash": "c7efbd60344adf9c62510e4f79b7dfefe221ea6c6a297ab638b2fc3fea13232b"
   }
  }
 },
 "nbformat": 4,
 "nbformat_minor": 4
}
